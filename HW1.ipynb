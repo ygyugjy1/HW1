{
  "metadata": {
    "language_info": {
      "codemirror_mode": {
        "name": "python",
        "version": 3
      },
      "file_extension": ".py",
      "mimetype": "text/x-python",
      "name": "python",
      "nbconvert_exporter": "python",
      "pygments_lexer": "ipython3",
      "version": "3.8"
    },
    "kernelspec": {
      "name": "python",
      "display_name": "Python (Pyodide)",
      "language": "python"
    }
  },
  "nbformat_minor": 4,
  "nbformat": 4,
  "cells": [
    {
      "cell_type": "code",
      "source": "mylist=list(range(30,61,5))\nlist.reverse(mylist)\nmylist.insert(0,65)\nprint(mylist)",
      "metadata": {
        "trusted": true
      },
      "execution_count": 24,
      "outputs": [
        {
          "name": "stdout",
          "text": "[65, 60, 55, 50, 45, 40, 35, 30]\n",
          "output_type": "stream"
        }
      ]
    },
    {
      "cell_type": "code",
      "source": " mylist=list(range(0,21))\nmylist.remove(0)\nprint(mylist)\nprint(\"lenth:\",len(mylist))\nprint(\"sum\", sum(mylist))",
      "metadata": {
        "trusted": true
      },
      "execution_count": 36,
      "outputs": [
        {
          "name": "stdout",
          "text": "[1, 2, 3, 4, 5, 6, 7, 8, 9, 10, 11, 12, 13, 14, 15, 16, 17, 18, 19, 20]\nlenth: 20\nsum 210\n",
          "output_type": "stream"
        }
      ]
    },
    {
      "cell_type": "code",
      "source": "weatherdict={'sunny':'play','rainy':'watch TV','cloudy':'walk'}\nnew={'snowy':'ski'}\nweatherdict.update(new)\nfor key in weatherdict:\n            print('when',key, ' let us ', weatherdict[key])\n\n    ",
      "metadata": {
        "trusted": true
      },
      "execution_count": 43,
      "outputs": [
        {
          "name": "stdout",
          "text": "when sunny  let us  play\nwhen rainy  let us  watch TV\nwhen cloudy  let us  walk\nwhen snowy  let us  ski\n",
          "output_type": "stream"
        }
      ]
    },
    {
      "cell_type": "code",
      "source": "",
      "metadata": {},
      "execution_count": null,
      "outputs": []
    },
    {
      "cell_type": "code",
      "source": "",
      "metadata": {},
      "execution_count": null,
      "outputs": []
    }
  ]
}
